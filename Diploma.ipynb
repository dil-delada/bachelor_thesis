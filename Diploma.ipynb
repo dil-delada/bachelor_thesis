{
 "cells": [
  {
   "cell_type": "code",
   "execution_count": 1,
   "metadata": {
    "collapsed": true
   },
   "outputs": [],
   "source": [
    "import numpy as np\n",
    "import pandas as pd"
   ]
  },
  {
   "cell_type": "code",
   "execution_count": 2,
   "metadata": {},
   "outputs": [
    {
     "name": "stdout",
     "output_type": "stream",
     "text": [
      "[1 0 0 1 0]\n",
      "['Ok lar Joking wif u oni']\n",
      "5575 5575\n"
     ]
    }
   ],
   "source": [
    "with open(u\".\\spam.csv\") as f:\n",
    "    lines = f.readlines()\n",
    "X = []\n",
    "y = []\n",
    "for line in lines:\n",
    "    if line[0] == 'h':\n",
    "        y.append(0)\n",
    "        string = line[4 : len(line) - 4]\n",
    "        ss = ''\n",
    "        for s in string:\n",
    "            if s == ' ' or (ord(s) >= ord('a') and ord(s) <= ord('z')) or (ord(s) >= ord('A') and ord(s) <= ord('Z')):\n",
    "                ss += s\n",
    "        X.append(ss)\n",
    "    else:\n",
    "        y.append(1)\n",
    "        string = line[5 : len(line) - 4]\n",
    "        ss = ''\n",
    "        for s in string:\n",
    "            if s == ' ' or (ord(s) >= ord('a') and ord(s) <= ord('z')) or (ord(s) >= ord('A') and ord(s) <= ord('Z')):\n",
    "                ss += s\n",
    "        X.append(ss)\n",
    "y = np.array(y)\n",
    "print (y[ : 5])\n",
    "print (X[2 : 3])\n",
    "print (len(X), len(y))"
   ]
  },
  {
   "cell_type": "code",
   "execution_count": 3,
   "metadata": {},
   "outputs": [
    {
     "data": {
      "text/plain": [
       "(5575, 8605)"
      ]
     },
     "execution_count": 3,
     "metadata": {},
     "output_type": "execute_result"
    }
   ],
   "source": [
    "from sklearn.feature_extraction.text import CountVectorizer\n",
    "count_vect = CountVectorizer()\n",
    "X_train = count_vect.fit_transform(X)\n",
    "X_train.shape"
   ]
  },
  {
   "cell_type": "code",
   "execution_count": 4,
   "metadata": {},
   "outputs": [
    {
     "data": {
      "text/plain": [
       "(5575, 8605)"
      ]
     },
     "execution_count": 4,
     "metadata": {},
     "output_type": "execute_result"
    }
   ],
   "source": [
    "from sklearn.feature_extraction.text import TfidfTransformer\n",
    "tf_transformer = TfidfTransformer(use_idf=False).fit(X_train)\n",
    "X_train_tf = tf_transformer.transform(X_train)\n",
    "X_train_tf.shape\n",
    "tfidf_transformer = TfidfTransformer()\n",
    "X_train_tfidf = tfidf_transformer.fit_transform(X_train)\n",
    "X_train_tfidf.shape"
   ]
  },
  {
   "cell_type": "code",
   "execution_count": 5,
   "metadata": {},
   "outputs": [
    {
     "name": "stdout",
     "output_type": "stream",
     "text": [
      "  (0, 2873)\t0.147340012101\n",
      "  (0, 7841)\t0.229602952849\n",
      "  (0, 3780)\t0.325874512281\n",
      "  (0, 5548)\t0.254888633171\n",
      "  (0, 1567)\t0.252371805949\n",
      "  (0, 491)\t0.247805913871\n",
      "  (0, 5131)\t0.156274373462\n",
      "  (0, 3492)\t0.107400040919\n",
      "  (0, 952)\t0.275303151637\n",
      "  (0, 2969)\t0.181385926839\n",
      "  (0, 8347)\t0.224731790993\n",
      "  (0, 3936)\t0.267162980743\n",
      "  (0, 950)\t0.311083337488\n",
      "  (0, 1284)\t0.275303151637\n",
      "  (0, 7404)\t0.161723590189\n",
      "  (0, 2930)\t0.152781639205\n",
      "  (0, 249)\t0.325874512281\n",
      "  (0, 8093)\t0.18581311333\n"
     ]
    }
   ],
   "source": [
    "data = X_train_tfidf\n",
    "print (data[1 : 2])"
   ]
  },
  {
   "cell_type": "code",
   "execution_count": null,
   "metadata": {},
   "outputs": [],
   "source": [
    "from sklearn.cross_validation import train_test_split\n",
    "X_train, X_test, y_train, y_test = train_test_split(data, y, test_size = 0.3, random_state = 11)"
   ]
  },
  {
   "cell_type": "code",
   "execution_count": 7,
   "metadata": {},
   "outputs": [
    {
     "data": {
      "image/png": "[encoded data removed]",
      "text/plain": [
       "<matplotlib.figure.Figure at 0xa0d6be0>"
      ]
     },
     "metadata": {},
     "output_type": "display_data"
    },
    {
     "name": "stdout",
     "output_type": "stream",
     "text": [
      "Best k =  15\n",
      "Best score =  0.961813257165\n",
      "False positive error =  0.001195457262402869\n",
      "True negative error =  0.04064554692169755\n",
      "False negative =  0.9986225895316805\n",
      "True positive =  0.6923076923076923\n",
      "TIME =  0:00:00.655037\n"
     ]
    }
   ],
   "source": [
    "import time\n",
    "import datetime\n",
    "from sklearn.neighbors import KNeighborsClassifier\n",
    "import matplotlib.pyplot as plt\n",
    "from sklearn.cross_validation import KFold, cross_val_score\n",
    "accuracy = []\n",
    "best_k = 1\n",
    "best_score = 0\n",
    "for k in range(2, 20):\n",
    "    knn = KNeighborsClassifier(n_neighbors=k)\n",
    "    kf = KFold(len(y_train), random_state=70, n_folds=5,shuffle=True)\n",
    "    scores = cross_val_score(knn, X_train, y_train, cv=kf)\n",
    "    if scores.mean() > best_score:\n",
    "        best_score = scores.mean()\n",
    "        best_k = k\n",
    "    accuracy.append(scores.mean())\n",
    "    \n",
    "plt.plot(np.arange(2, 20), accuracy)\n",
    "plt.show()\n",
    "\n",
    "print (\"Best k = \", best_k)\n",
    "print (\"Best score = \", best_score)\n",
    "start_time = datetime.datetime.now()\n",
    "knn = KNeighborsClassifier(n_neighbors=best_k)\n",
    "knn.fit(X_train, y_train)  \n",
    "y_test_predict = knn.predict(X_test)\n",
    "fp = 0\n",
    "tn = 0\n",
    "fn = 0\n",
    "tp = 0\n",
    "f = 0\n",
    "t = 0\n",
    "for i in range(len(y_test)):\n",
    "    if y_test[i] == 0 and y_test_predict[i] == 1:\n",
    "        fp += 1\n",
    "        f += 1\n",
    "    if y_test[i] == 0 and y_test_predict[i] == 0:\n",
    "        fn += 1\n",
    "        f += 1\n",
    "    else:\n",
    "        if y_test[i] == 1 and y_test_predict[i] == 0:\n",
    "            tn += 1\n",
    "            t += 1\n",
    "        if y_test[i] == 1 and y_test_predict[i] == 1:\n",
    "            tp += 1\n",
    "            t += 1\n",
    "            \n",
    "print (\"False positive error = \", float(fp) / len(y_test))\n",
    "print (\"True negative error = \", float(tn) / len(y_test))\n",
    "print (\"False negative = \", float(fn) / f)\n",
    "print (\"True positive = \", float(tp) / t)\n",
    "print (\"TIME = \", datetime.datetime.now() - start_time)"
   ]
  },
  {
   "cell_type": "code",
   "execution_count": 8,
   "metadata": {},
   "outputs": [
    {
     "name": "stderr",
     "output_type": "stream",
     "text": [
      "C:\\ProgramData\\Anaconda3\\lib\\site-packages\\sklearn\\naive_bayes.py:699: RuntimeWarning: divide by zero encountered in log\n",
      "  self.feature_log_prob_ = (np.log(smoothed_fc) -\n",
      "C:\\ProgramData\\Anaconda3\\lib\\site-packages\\sklearn\\naive_bayes.py:699: RuntimeWarning: divide by zero encountered in log\n",
      "  self.feature_log_prob_ = (np.log(smoothed_fc) -\n",
      "C:\\ProgramData\\Anaconda3\\lib\\site-packages\\sklearn\\naive_bayes.py:699: RuntimeWarning: divide by zero encountered in log\n",
      "  self.feature_log_prob_ = (np.log(smoothed_fc) -\n",
      "C:\\ProgramData\\Anaconda3\\lib\\site-packages\\sklearn\\naive_bayes.py:699: RuntimeWarning: divide by zero encountered in log\n",
      "  self.feature_log_prob_ = (np.log(smoothed_fc) -\n",
      "C:\\ProgramData\\Anaconda3\\lib\\site-packages\\sklearn\\naive_bayes.py:699: RuntimeWarning: divide by zero encountered in log\n",
      "  self.feature_log_prob_ = (np.log(smoothed_fc) -\n"
     ]
    },
    {
     "data": {
      "image/png": "[encoded data removed]",
      "text/plain": [
       "<matplotlib.figure.Figure at 0xb9a0860>"
      ]
     },
     "metadata": {},
     "output_type": "display_data"
    },
    {
     "name": "stdout",
     "output_type": "stream",
     "text": [
      "Best C =  0.2\n",
      "Best score =  0.974629173643\n",
      "False positive error =  0.010161386730424387\n",
      "True negative error =  0.016138673042438732\n",
      "False negative =  0.9882920110192838\n",
      "True positive =  0.8778280542986425\n",
      "TIME =  0:00:00.034002\n"
     ]
    }
   ],
   "source": [
    "from sklearn.naive_bayes import MultinomialNB\n",
    "accuracy = []\n",
    "best_k = 0\n",
    "best_score = 0\n",
    "C = [0., 0.2, 0.4, 0.6, 0.8, 1]\n",
    "for k in C:\n",
    "    sv = MultinomialNB(alpha=k, class_prior=None, fit_prior=True)\n",
    "    kf = KFold(len(y_train), random_state=70, n_folds=5,shuffle=True)\n",
    "    scores = cross_val_score(sv, X_train, y_train, cv=kf)\n",
    "    if scores.mean() > best_score:\n",
    "        best_score = scores.mean()\n",
    "        best_k = k\n",
    "    accuracy.append(scores.mean())\n",
    "    \n",
    "plt.plot(C, accuracy)\n",
    "plt.show()\n",
    "\n",
    "print (\"Best C = \", best_k)\n",
    "print (\"Best score = \", best_score)\n",
    "\n",
    "start_time = datetime.datetime.now()\n",
    "clf = MultinomialNB(alpha=best_k, class_prior=None, fit_prior=True)\n",
    "clf.fit(X_train, y_train)\n",
    "y_test_predict = clf.predict(X_test)\n",
    "fp = 0\n",
    "tn = 0\n",
    "fn = 0\n",
    "tp = 0\n",
    "f = 0\n",
    "t = 0\n",
    "for i in range(len(y_test)):\n",
    "    if y_test[i] == 0 and y_test_predict[i] == 1:\n",
    "        fp += 1\n",
    "        f += 1\n",
    "    if y_test[i] == 0 and y_test_predict[i] == 0:\n",
    "        fn += 1\n",
    "        f += 1\n",
    "    else:\n",
    "        if y_test[i] == 1 and y_test_predict[i] == 0:\n",
    "            tn += 1\n",
    "            t += 1\n",
    "        if y_test[i] == 1 and y_test_predict[i] == 1:\n",
    "            tp += 1\n",
    "            t += 1\n",
    "            \n",
    "print (\"False positive error = \", float(fp) / len(y_test))\n",
    "print (\"True negative error = \", float(tn) / len(y_test))\n",
    "print (\"False negative = \", float(fn) / f)\n",
    "print (\"True positive = \", float(tp) / t)\n",
    "print (\"TIME = \", datetime.datetime.now() - start_time)"
   ]
  },
  {
   "cell_type": "code",
   "execution_count": 9,
   "metadata": {},
   "outputs": [
    {
     "data": {
      "image/png": "[encoded data removed]",
      "text/plain": [
       "<matplotlib.figure.Figure at 0xb9f9c18>"
      ]
     },
     "metadata": {},
     "output_type": "display_data"
    },
    {
     "name": "stdout",
     "output_type": "stream",
     "text": [
      "Best C =  10\n",
      "Best score (l2 penalty) =  0.974629501953\n"
     ]
    },
    {
     "data": {
      "image/png": "[encoded data removed]",
      "text/plain": [
       "<matplotlib.figure.Figure at 0xbf3ac18>"
      ]
     },
     "metadata": {},
     "output_type": "display_data"
    },
    {
     "name": "stdout",
     "output_type": "stream",
     "text": [
      "Best C =  10\n",
      "Best score (l1 penalty) =  0.97001674382\n",
      "False positive error =  0.0\n",
      "True negative error =  0.024506873879258817\n",
      "False negative =  1.0\n",
      "True positive =  0.8144796380090498\n",
      "TIME =  0:00:00.160009\n"
     ]
    }
   ],
   "source": [
    "from sklearn.linear_model import LogisticRegression\n",
    "accuracy = []\n",
    "best_k = 1\n",
    "best_score = 0\n",
    "C = [0.001, 0.001, 0.01, 0.1, 1, 5, 10]\n",
    "for k in C:\n",
    "    lr = LogisticRegression(C=k)\n",
    "    kf = KFold(len(y_train), random_state=70, n_folds=5,shuffle=True)\n",
    "    scores = cross_val_score(lr, X_train, y_train, cv=kf)\n",
    "    if scores.mean() > best_score:\n",
    "        best_score = scores.mean()\n",
    "        best_k = k\n",
    "    accuracy.append(scores.mean())\n",
    "    \n",
    "plt.plot(C, accuracy)\n",
    "plt.show()\n",
    "print (\"Best C = \", best_k)\n",
    "print (\"Best score (l2 penalty) = \", best_score)\n",
    "\n",
    "\n",
    "accuracy = []\n",
    "best_k = 1\n",
    "best_score = 0\n",
    "C = [0.001, 0.001, 0.01, 0.1, 1, 5, 10]\n",
    "for k in C:\n",
    "    lr = LogisticRegression(C=k, penalty=\"l1\")\n",
    "    kf = KFold(len(y_train), random_state=70, n_folds=5,shuffle=True)\n",
    "    scores = cross_val_score(lr, X_train, y_train, cv=kf)\n",
    "    if scores.mean() > best_score:\n",
    "        best_score = scores.mean()\n",
    "        best_k = k\n",
    "    accuracy.append(scores.mean())\n",
    "    \n",
    "plt.plot(C, accuracy)\n",
    "plt.show()\n",
    "\n",
    "print (\"Best C = \", best_k)\n",
    "print (\"Best score (l1 penalty) = \", best_score)\n",
    "start_time = datetime.datetime.now()\n",
    "lr = LogisticRegression(C=best_k)\n",
    "lr.fit(X_train, y_train)  \n",
    "y_test_predict = lr.predict(X_test)\n",
    "fp = 0\n",
    "tn = 0\n",
    "fn = 0\n",
    "tp = 0\n",
    "f = 0\n",
    "t = 0\n",
    "for i in range(len(y_test)):\n",
    "    if y_test[i] == 0 and y_test_predict[i] == 1:\n",
    "        fp += 1\n",
    "        f += 1\n",
    "    if y_test[i] == 0 and y_test_predict[i] == 0:\n",
    "        fn += 1\n",
    "        f += 1\n",
    "    else:\n",
    "        if y_test[i] == 1 and y_test_predict[i] == 0:\n",
    "            tn += 1\n",
    "            t += 1\n",
    "        if y_test[i] == 1 and y_test_predict[i] == 1:\n",
    "            tp += 1\n",
    "            t += 1\n",
    "            \n",
    "print (\"False positive error = \", float(fp) / len(y_test))\n",
    "print (\"True negative error = \", float(tn) / len(y_test))\n",
    "print (\"False negative = \", float(fn) / f)\n",
    "print (\"True positive = \", float(tp) / t)\n",
    "print (\"TIME = \", datetime.datetime.now() - start_time)"
   ]
  },
  {
   "cell_type": "code",
   "execution_count": 13,
   "metadata": {},
   "outputs": [
    {
     "data": {
      "image/png": "[encoded data removed]",
      "text/plain": [
       "<matplotlib.figure.Figure at 0xc1ceba8>"
      ]
     },
     "metadata": {},
     "output_type": "display_data"
    },
    {
     "name": "stdout",
     "output_type": "stream",
     "text": [
      "Best C =  27\n",
      "Best score (best splitter) =  0.96078761614\n",
      "False positive error =  0.0005977286312014345\n",
      "True negative error =  0.020322773460848775\n",
      "False negative =  0.9993112947658402\n",
      "True positive =  0.8461538461538461\n",
      "TIME =  10:57:21.144483\n"
     ]
    }
   ],
   "source": [
    "from sklearn.tree import DecisionTreeClassifier\n",
    "accuracy = []\n",
    "best_k = 1\n",
    "best_score = 0\n",
    "C = np.arange(2, 50, 5)\n",
    "for k in C:\n",
    "    tree = DecisionTreeClassifier(max_depth=k)\n",
    "    kf = KFold(len(y_train), random_state=70, n_folds=5,shuffle=True)\n",
    "    scores = cross_val_score(tree, X_train, y_train, cv=kf)\n",
    "    if scores.mean() > best_score:\n",
    "        best_score = scores.mean()\n",
    "        best_k = k\n",
    "    accuracy.append(scores.mean())\n",
    "    \n",
    "plt.plot(C, accuracy)\n",
    "plt.show()\n",
    "\n",
    "print (\"Best C = \", best_k)\n",
    "print (\"Best score (best splitter) = \", best_score)\n",
    "\n",
    "tree = DecisionTreeClassifier()\n",
    "tree.fit(X_train, y_train)\n",
    "fp = 0\n",
    "tn = 0\n",
    "fn = 0\n",
    "tp = 0\n",
    "f = 0\n",
    "t = 0\n",
    "for i in range(len(y_test)):\n",
    "    if y_test[i] == 0 and y_test_predict[i] == 1:\n",
    "        fp += 1\n",
    "        f += 1\n",
    "    if y_test[i] == 0 and y_test_predict[i] == 0:\n",
    "        fn += 1\n",
    "        f += 1\n",
    "    else:\n",
    "        if y_test[i] == 1 and y_test_predict[i] == 0:\n",
    "            tn += 1\n",
    "            t += 1\n",
    "        if y_test[i] == 1 and y_test_predict[i] == 1:\n",
    "            tp += 1\n",
    "            t += 1\n",
    "            \n",
    "print (\"False positive error = \", float(fp) / len(y_test))\n",
    "print (\"True negative error = \", float(tn) / len(y_test))\n",
    "print (\"False negative = \", float(fn) / f)\n",
    "print (\"True positive = \", float(tp) / t)\n",
    "print (\"TIME = \", datetime.datetime.now() - start_time)"
   ]
  },
  {
   "cell_type": "code",
   "execution_count": 11,
   "metadata": {},
   "outputs": [
    {
     "data": {
      "image/png": "[encoded data removed]",
      "text/plain": [
       "<matplotlib.figure.Figure at 0xba86128>"
      ]
     },
     "metadata": {},
     "output_type": "display_data"
    },
    {
     "name": "stdout",
     "output_type": "stream",
     "text": [
      "[0, 0.97744804491283366, 0.86493811352966288, 0.86493811352966288, 0.86493811352966288]\n",
      "['linear', 'poly', 'rbf', 'sigmoid']\n",
      "Best kernel =  linear\n",
      "Best score =  0.977448044913\n",
      "False positive error =  0.0005977286312014345\n",
      "True negative error =  0.020322773460848775\n",
      "False negative =  0.9993112947658402\n",
      "True positive =  0.8461538461538461\n",
      "TIME =  0:00:01.592091\n"
     ]
    }
   ],
   "source": [
    "from sklearn.svm import SVC\n",
    "svc = SVC()\n",
    "accuracy = []\n",
    "best_k = \"\"\n",
    "best_score = 0\n",
    "C = [\"linear\", \"poly\", \"rbf\", \"sigmoid\"]\n",
    "for k in C:\n",
    "    sv = SVC(kernel=k)\n",
    "    kf = KFold(len(y_train), random_state=70, n_folds=5,shuffle=True)\n",
    "    scores = cross_val_score(sv, X_train, y_train, cv=kf)\n",
    "    if scores.mean() > best_score:\n",
    "        best_score = scores.mean()\n",
    "        best_k = k\n",
    "    accuracy.append(scores.mean())\n",
    "\n",
    "accuracy.insert(0, 0)    \n",
    "plt.plot(np.arange(len(C) + 1), accuracy, 'ro')\n",
    "plt.show()\n",
    "\n",
    "print (accuracy)\n",
    "print (C)\n",
    "print (\"Best kernel = \", best_k)\n",
    "print (\"Best score = \", best_score)\n",
    "\n",
    "start_time = datetime.datetime.now()\n",
    "sv = SVC(kernel=best_k)\n",
    "sv.fit(X_train, y_train)  \n",
    "y_test_predict = sv.predict(X_test)\n",
    "fp = 0\n",
    "tn = 0\n",
    "fn = 0\n",
    "tp = 0\n",
    "f = 0\n",
    "t = 0\n",
    "for i in range(len(y_test)):\n",
    "    if y_test[i] == 0 and y_test_predict[i] == 1:\n",
    "        fp += 1\n",
    "        f += 1\n",
    "    if y_test[i] == 0 and y_test_predict[i] == 0:\n",
    "        fn += 1\n",
    "        f += 1\n",
    "    else:\n",
    "        if y_test[i] == 1 and y_test_predict[i] == 0:\n",
    "            tn += 1\n",
    "            t += 1\n",
    "        if y_test[i] == 1 and y_test_predict[i] == 1:\n",
    "            tp += 1\n",
    "            t += 1\n",
    "            \n",
    "print (\"False positive error = \", float(fp) / len(y_test))\n",
    "print (\"True negative error = \", float(tn) / len(y_test))\n",
    "print (\"False negative = \", float(fn) / f)\n",
    "print (\"True positive = \", float(tp) / t)\n",
    "print (\"TIME = \", datetime.datetime.now() - start_time)"
   ]
  }
 ],
 "metadata": {
  "kernelspec": {
   "display_name": "Python 3",
   "language": "python",
   "name": "python3"
  },
  "language_info": {
   "codemirror_mode": {
    "name": "ipython",
    "version": 3
   },
   "file_extension": ".py",
   "mimetype": "text/x-python",
   "name": "python",
   "nbconvert_exporter": "python",
   "pygments_lexer": "ipython3",
   "version": "3.6.4"
  }
 },
 "nbformat": 4,
 "nbformat_minor": 2
}
